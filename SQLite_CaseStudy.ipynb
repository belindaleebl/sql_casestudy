{
 "cells": [
  {
   "cell_type": "code",
   "execution_count": 1,
   "metadata": {},
   "outputs": [],
   "source": [
    "import sqlite3\n",
    "import pandas as pd"
   ]
  },
  {
   "cell_type": "code",
   "execution_count": 2,
   "metadata": {},
   "outputs": [],
   "source": [
    "conn = sqlite3.connect('sqlite_db_pythonsqlite.db')"
   ]
  },
  {
   "cell_type": "code",
   "execution_count": 3,
   "metadata": {},
   "outputs": [],
   "source": [
    "curs = conn.cursor()"
   ]
  },
  {
   "cell_type": "code",
   "execution_count": 4,
   "metadata": {},
   "outputs": [
    {
     "data": {
      "text/plain": [
       "[('Bookings',), ('Facilities',), ('Members',)]"
      ]
     },
     "execution_count": 4,
     "metadata": {},
     "output_type": "execute_result"
    }
   ],
   "source": [
    "curs.execute(\"SELECT name FROM sqlite_master WHERE type = 'table'\").fetchall()"
   ]
  },
  {
   "cell_type": "code",
   "execution_count": 5,
   "metadata": {},
   "outputs": [
    {
     "data": {
      "text/plain": [
       "(('bookid', None, None, None, None, None, None),\n",
       " ('facid', None, None, None, None, None, None),\n",
       " ('memid', None, None, None, None, None, None),\n",
       " ('starttime', None, None, None, None, None, None),\n",
       " ('slots', None, None, None, None, None, None))"
      ]
     },
     "execution_count": 5,
     "metadata": {},
     "output_type": "execute_result"
    }
   ],
   "source": [
    "curs.execute('SELECT * FROM Bookings').description"
   ]
  },
  {
   "cell_type": "code",
   "execution_count": 6,
   "metadata": {},
   "outputs": [
    {
     "data": {
      "text/plain": [
       "(('facid', None, None, None, None, None, None),\n",
       " ('name', None, None, None, None, None, None),\n",
       " ('membercost', None, None, None, None, None, None),\n",
       " ('guestcost', None, None, None, None, None, None),\n",
       " ('initialoutlay', None, None, None, None, None, None),\n",
       " ('monthlymaintenance', None, None, None, None, None, None))"
      ]
     },
     "execution_count": 6,
     "metadata": {},
     "output_type": "execute_result"
    }
   ],
   "source": [
    "curs.execute('SELECT * FROM Facilities').description"
   ]
  },
  {
   "cell_type": "code",
   "execution_count": 7,
   "metadata": {},
   "outputs": [
    {
     "data": {
      "text/plain": [
       "(('memid', None, None, None, None, None, None),\n",
       " ('surname', None, None, None, None, None, None),\n",
       " ('firstname', None, None, None, None, None, None),\n",
       " ('address', None, None, None, None, None, None),\n",
       " ('zipcode', None, None, None, None, None, None),\n",
       " ('telephone', None, None, None, None, None, None),\n",
       " ('recommendedby', None, None, None, None, None, None),\n",
       " ('joindate', None, None, None, None, None, None))"
      ]
     },
     "execution_count": 7,
     "metadata": {},
     "output_type": "execute_result"
    }
   ],
   "source": [
    "curs.execute('SELECT * FROM Members').description\n"
   ]
  },
  {
   "cell_type": "markdown",
   "metadata": {},
   "source": [
    "Now we have all three tables, and the columns of each table identified"
   ]
  },
  {
   "cell_type": "markdown",
   "metadata": {},
   "source": [
    "Q10: Produce a list of facilities with a total revenue less than 1000.\n",
    "The output of facility name and total revenue, sorted by revenue. Remember\n",
    "that there's a different cost for guests and members! "
   ]
  },
  {
   "cell_type": "code",
   "execution_count": 8,
   "metadata": {},
   "outputs": [],
   "source": [
    "q10 = curs.execute('SELECT name, revenue FROM(SELECT name, SUM(CASE WHEN memid = 0 THEN guestcost * slots ELSE membercost * slots END) AS revenue FROM Bookings INNER JOIN Facilities ON Bookings.facid = Facilities.facid GROUP BY name) AS inner_table WHERE revenue < 1000 ORDER BY revenue')"
   ]
  },
  {
   "cell_type": "code",
   "execution_count": 9,
   "metadata": {},
   "outputs": [
    {
     "name": "stdout",
     "output_type": "stream",
     "text": [
      "[('Table Tennis', 180), ('Snooker Table', 240), ('Pool Table', 270)]\n"
     ]
    }
   ],
   "source": [
    "q10 = curs.fetchall()\n",
    "print(q10)"
   ]
  },
  {
   "cell_type": "markdown",
   "metadata": {},
   "source": [
    "Q11: Produce a report of members and who recommended them in alphabetic surname,firstname order"
   ]
  },
  {
   "cell_type": "code",
   "execution_count": 10,
   "metadata": {},
   "outputs": [],
   "source": [
    "list11 = curs.execute('SELECT surname || \", \" || firstname AS name, recommendedby FROM Members WHERE recommendedby > 0 ORDER BY name')"
   ]
  },
  {
   "cell_type": "code",
   "execution_count": 11,
   "metadata": {},
   "outputs": [],
   "source": [
    "list11 = curs.fetchall()"
   ]
  },
  {
   "cell_type": "code",
   "execution_count": 12,
   "metadata": {
    "scrolled": true
   },
   "outputs": [
    {
     "name": "stdout",
     "output_type": "stream",
     "text": [
      "[('Bader, Florence', '9'), ('Baker, Anne', '9'), ('Baker, Timothy', '13'), ('Boothe, Tim', '3'), ('Butters, Gerald', '1'), ('Coplin, Joan', '16'), ('Crumpet, Erica', '2'), ('Dare, Nancy', '4'), ('Genting, Matthew', '5'), ('Hunt, John', '30'), ('Jones, David', '4'), ('Jones, Douglas', '11'), ('Joplette, Janice', '1'), ('Mackenzie, Anna', '1'), ('Owen, Charles', '1'), ('Pinker, David', '13'), ('Purview, Millicent', '2'), ('Rumney, Henrietta', '20'), ('Sarwin, Ramnaresh', '15'), ('Smith, Jack', '1'), ('Stibbons, Ponder', '6'), ('Worthington-Smyth, Henry', '2')]\n"
     ]
    }
   ],
   "source": [
    "print(list11)"
   ]
  },
  {
   "cell_type": "markdown",
   "metadata": {},
   "source": [
    "Q12: Find the facilities with their usage by member, but not guests"
   ]
  },
  {
   "cell_type": "code",
   "execution_count": 13,
   "metadata": {},
   "outputs": [],
   "source": [
    "q12 = curs.execute('SELECT f.name, firstname|| \" \"|| surname as member_name, sum(slots), COUNT(f.name) FROM Facilities as f  INNER JOIN Bookings as b  ON f.facid = b.facid  INNER JOIN Members as m  ON b.memid = m.memid  WHERE m.memid > 0 GROUP BY f.name, member_name')"
   ]
  },
  {
   "cell_type": "code",
   "execution_count": 14,
   "metadata": {},
   "outputs": [
    {
     "name": "stdout",
     "output_type": "stream",
     "text": [
      "[('Badminton Court', 'Anna Mackenzie', 96, 30), ('Badminton Court', 'Anne Baker', 30, 10), ('Badminton Court', 'Burton Tracy', 6, 2), ('Badminton Court', 'Charles Owen', 18, 6), ('Badminton Court', 'Darren Smith', 432, 132), ('Badminton Court', 'David Jones', 24, 8), ('Badminton Court', 'David Pinker', 21, 7), ('Badminton Court', 'Douglas Jones', 6, 2), ('Badminton Court', 'Erica Crumpet', 6, 2), ('Badminton Court', 'Florence Bader', 27, 9), ('Badminton Court', 'Gerald Butters', 63, 20), ('Badminton Court', 'Henry Worthington-Smyth', 15, 4), ('Badminton Court', 'Hyacinth Tupperware', 3, 1), ('Badminton Court', 'Jack Smith', 36, 12), ('Badminton Court', 'Jemima Farrell', 21, 7), ('Badminton Court', 'John Hunt', 6, 2), ('Badminton Court', 'Millicent Purview', 6, 2), ('Badminton Court', 'Nancy Dare', 30, 10), ('Badminton Court', 'Ponder Stibbons', 48, 16), ('Badminton Court', 'Ramnaresh Sarwin', 21, 7), ('Badminton Court', 'Tim Boothe', 36, 12), ('Badminton Court', 'Tim Rownam', 12, 4), ('Badminton Court', 'Timothy Baker', 21, 7), ('Badminton Court', 'Tracy Smith', 102, 32), ('Massage Room 1', 'Anna Mackenzie', 2, 1), ('Massage Room 1', 'Anne Baker', 6, 3), ('Massage Room 1', 'Burton Tracy', 62, 31), ('Massage Room 1', 'Charles Owen', 22, 11), ('Massage Room 1', 'Darren Smith', 58, 28), ('Massage Room 1', 'David Jones', 40, 19), ('Massage Room 1', 'David Pinker', 6, 3), ('Massage Room 1', 'Erica Crumpet', 4, 2), ('Massage Room 1', 'Gerald Butters', 66, 32), ('Massage Room 1', 'Henry Worthington-Smyth', 2, 1), ('Massage Room 1', 'Hyacinth Tupperware', 2, 1), ('Massage Room 1', 'Jack Smith', 54, 27), ('Massage Room 1', 'Janice Joplette', 24, 12), ('Massage Room 1', 'Jemima Farrell', 68, 29), ('Massage Room 1', 'Joan Coplin', 2, 1), ('Massage Room 1', 'John Hunt', 6, 3), ('Massage Room 1', 'Matthew Genting', 52, 25), ('Massage Room 1', 'Nancy Dare', 38, 19), ('Massage Room 1', 'Ponder Stibbons', 40, 19), ('Massage Room 1', 'Ramnaresh Sarwin', 16, 8), ('Massage Room 1', 'Tim Boothe', 76, 36), ('Massage Room 1', 'Tim Rownam', 176, 80), ('Massage Room 1', 'Timothy Baker', 50, 24), ('Massage Room 1', 'Tracy Smith', 12, 6), ('Massage Room 2', 'Anne Baker', 4, 2), ('Massage Room 2', 'Charles Owen', 4, 2), ('Massage Room 2', 'David Jones', 8, 4), ('Massage Room 2', 'Florence Bader', 4, 2), ('Massage Room 2', 'Gerald Butters', 2, 1), ('Massage Room 2', 'Jack Smith', 2, 1), ('Massage Room 2', 'Janice Joplette', 4, 2), ('Massage Room 2', 'Joan Coplin', 4, 2), ('Massage Room 2', 'Matthew Genting', 2, 1), ('Massage Room 2', 'Nancy Dare', 10, 5), ('Massage Room 2', 'Ramnaresh Sarwin', 6, 3), ('Massage Room 2', 'Tim Rownam', 4, 2), ('Pool Table', 'Anna Mackenzie', 83, 70), ('Pool Table', 'Anne Baker', 12, 12), ('Pool Table', 'Burton Tracy', 30, 30), ('Pool Table', 'Charles Owen', 1, 1), ('Pool Table', 'Darren Smith', 28, 28), ('Pool Table', 'David Farrell', 25, 25), ('Pool Table', 'David Jones', 8, 8), ('Pool Table', 'David Pinker', 9, 9), ('Pool Table', 'Douglas Jones', 2, 2), ('Pool Table', 'Florence Bader', 23, 23), ('Pool Table', 'Gerald Butters', 6, 6), ('Pool Table', 'Henrietta Rumney', 3, 3), ('Pool Table', 'Henry Worthington-Smyth', 37, 33), ('Pool Table', 'Hyacinth Tupperware', 9, 8), ('Pool Table', 'Jack Smith', 7, 7), ('Pool Table', 'Janice Joplette', 27, 27), ('Pool Table', 'Jemima Farrell', 1, 1), ('Pool Table', 'Joan Coplin', 11, 11), ('Pool Table', 'Matthew Genting', 18, 18), ('Pool Table', 'Millicent Purview', 5, 5), ('Pool Table', 'Nancy Dare', 19, 19), ('Pool Table', 'Ponder Stibbons', 12, 12), ('Pool Table', 'Ramnaresh Sarwin', 13, 13), ('Pool Table', 'Tim Boothe', 26, 25), ('Pool Table', 'Tim Rownam', 282, 241), ('Pool Table', 'Timothy Baker', 95, 85), ('Pool Table', 'Tracy Smith', 64, 61), ('Snooker Table', 'Anna Mackenzie', 14, 7), ('Snooker Table', 'Burton Tracy', 40, 20), ('Snooker Table', 'Charles Owen', 44, 22), ('Snooker Table', 'Darren Smith', 24, 12), ('Snooker Table', 'David Farrell', 2, 1), ('Snooker Table', 'David Jones', 4, 2), ('Snooker Table', 'David Pinker', 32, 16), ('Snooker Table', 'Florence Bader', 66, 33), ('Snooker Table', 'Gerald Butters', 72, 34), ('Snooker Table', 'Henrietta Rumney', 28, 14), ('Snooker Table', 'Hyacinth Tupperware', 12, 5), ('Snooker Table', 'Jack Smith', 10, 5), ('Snooker Table', 'Janice Joplette', 142, 68), ('Snooker Table', 'Jemima Farrell', 44, 21), ('Snooker Table', 'Joan Coplin', 20, 10), ('Snooker Table', 'Matthew Genting', 2, 1), ('Snooker Table', 'Millicent Purview', 2, 1), ('Snooker Table', 'Nancy Dare', 46, 23), ('Snooker Table', 'Ponder Stibbons', 40, 20), ('Snooker Table', 'Ramnaresh Sarwin', 36, 18), ('Snooker Table', 'Tim Boothe', 90, 43), ('Snooker Table', 'Tracy Smith', 90, 45), ('Squash Court', 'Anna Mackenzie', 4, 2), ('Squash Court', 'Anne Baker', 110, 49), ('Squash Court', 'Burton Tracy', 78, 35), ('Squash Court', 'Charles Owen', 14, 7), ('Squash Court', 'Darren Smith', 30, 14), ('Squash Court', 'David Farrell', 2, 1), ('Squash Court', 'David Jones', 16, 8), ('Squash Court', 'David Pinker', 6, 3), ('Squash Court', 'Douglas Jones', 2, 1), ('Squash Court', 'Florence Bader', 4, 2), ('Squash Court', 'Gerald Butters', 18, 9), ('Squash Court', 'Henrietta Rumney', 4, 2), ('Squash Court', 'Hyacinth Tupperware', 2, 1), ('Squash Court', 'Jack Smith', 22, 9), ('Squash Court', 'Janice Joplette', 30, 14), ('Squash Court', 'Jemima Farrell', 16, 8), ('Squash Court', 'Joan Coplin', 2, 1), ('Squash Court', 'John Hunt', 2, 1), ('Squash Court', 'Millicent Purview', 2, 1), ('Squash Court', 'Ponder Stibbons', 4, 2), ('Squash Court', 'Ramnaresh Sarwin', 4, 2), ('Squash Court', 'Tim Boothe', 24, 12), ('Squash Court', 'Timothy Baker', 10, 5), ('Squash Court', 'Tracy Smith', 12, 6), ('Table Tennis', 'Anna Mackenzie', 32, 16), ('Table Tennis', 'Anne Baker', 2, 1), ('Table Tennis', 'Burton Tracy', 48, 24), ('Table Tennis', 'Charles Owen', 50, 24), ('Table Tennis', 'Darren Smith', 56, 28), ('Table Tennis', 'David Jones', 22, 11), ('Table Tennis', 'David Pinker', 34, 17), ('Table Tennis', 'Erica Crumpet', 4, 2), ('Table Tennis', 'Florence Bader', 86, 42), ('Table Tennis', 'Gerald Butters', 2, 1), ('Table Tennis', 'Henry Worthington-Smyth', 6, 3), ('Table Tennis', 'Jack Smith', 10, 5), ('Table Tennis', 'Janice Joplette', 18, 9), ('Table Tennis', 'Jemima Farrell', 24, 12), ('Table Tennis', 'Joan Coplin', 46, 21), ('Table Tennis', 'John Hunt', 2, 1), ('Table Tennis', 'Matthew Genting', 54, 26), ('Table Tennis', 'Millicent Purview', 14, 6), ('Table Tennis', 'Nancy Dare', 10, 5), ('Table Tennis', 'Ponder Stibbons', 6, 3), ('Table Tennis', 'Ramnaresh Sarwin', 6, 3), ('Table Tennis', 'Tim Boothe', 8, 4), ('Table Tennis', 'Tim Rownam', 150, 69), ('Table Tennis', 'Timothy Baker', 48, 24), ('Table Tennis', 'Tracy Smith', 56, 28), ('Tennis Court 1', 'Anne Baker', 18, 6), ('Tennis Court 1', 'Burton Tracy', 93, 31), ('Tennis Court 1', 'Charles Owen', 51, 17), ('Tennis Court 1', 'David Farrell', 18, 6), ('Tennis Court 1', 'David Jones', 84, 25), ('Tennis Court 1', 'David Pinker', 51, 16), ('Tennis Court 1', 'Douglas Jones', 27, 9), ('Tennis Court 1', 'Erica Crumpet', 3, 1), ('Tennis Court 1', 'Florence Bader', 3, 1), ('Tennis Court 1', 'Gerald Butters', 171, 57), ('Tennis Court 1', 'Jack Smith', 75, 22), ('Tennis Court 1', 'Janice Joplette', 57, 19), ('Tennis Court 1', 'Jemima Farrell', 3, 1), ('Tennis Court 1', 'Joan Coplin', 21, 7), ('Tennis Court 1', 'John Hunt', 12, 4), ('Tennis Court 1', 'Matthew Genting', 3, 1), ('Tennis Court 1', 'Nancy Dare', 81, 25), ('Tennis Court 1', 'Ponder Stibbons', 3, 1), ('Tennis Court 1', 'Ramnaresh Sarwin', 15, 5), ('Tennis Court 1', 'Tim Boothe', 12, 4), ('Tennis Court 1', 'Tim Rownam', 18, 6), ('Tennis Court 1', 'Timothy Baker', 45, 14), ('Tennis Court 1', 'Tracy Smith', 93, 30), ('Tennis Court 2', 'Anne Baker', 114, 35), ('Tennis Court 2', 'Burton Tracy', 9, 3), ('Tennis Court 2', 'Charles Owen', 141, 41), ('Tennis Court 2', 'Darren Smith', 57, 19), ('Tennis Court 2', 'David Farrell', 3, 1), ('Tennis Court 2', 'David Jones', 99, 30), ('Tennis Court 2', 'Florence Bader', 24, 8), ('Tennis Court 2', 'Gerald Butters', 9, 3), ('Tennis Court 2', 'Henrietta Rumney', 3, 1), ('Tennis Court 2', 'Jack Smith', 3, 1), ('Tennis Court 2', 'Janice Joplette', 24, 8), ('Tennis Court 2', 'Jemima Farrell', 3, 1), ('Tennis Court 2', 'John Hunt', 12, 4), ('Tennis Court 2', 'Millicent Purview', 3, 1), ('Tennis Court 2', 'Nancy Dare', 33, 11), ('Tennis Court 2', 'Ponder Stibbons', 96, 31), ('Tennis Court 2', 'Ramnaresh Sarwin', 36, 11), ('Tennis Court 2', 'Tim Boothe', 168, 52), ('Tennis Court 2', 'Tim Rownam', 18, 6), ('Tennis Court 2', 'Timothy Baker', 21, 7), ('Tennis Court 2', 'Tracy Smith', 6, 2)]\n"
     ]
    }
   ],
   "source": [
    "q12 = curs.fetchall()\n",
    "print(q12)"
   ]
  },
  {
   "cell_type": "code",
   "execution_count": 15,
   "metadata": {},
   "outputs": [],
   "source": [
    "q12df = pd.DataFrame(q12)"
   ]
  },
  {
   "cell_type": "code",
   "execution_count": 16,
   "metadata": {},
   "outputs": [
    {
     "data": {
      "text/html": [
       "<div>\n",
       "<style scoped>\n",
       "    .dataframe tbody tr th:only-of-type {\n",
       "        vertical-align: middle;\n",
       "    }\n",
       "\n",
       "    .dataframe tbody tr th {\n",
       "        vertical-align: top;\n",
       "    }\n",
       "\n",
       "    .dataframe thead th {\n",
       "        text-align: right;\n",
       "    }\n",
       "</style>\n",
       "<table border=\"1\" class=\"dataframe\">\n",
       "  <thead>\n",
       "    <tr style=\"text-align: right;\">\n",
       "      <th></th>\n",
       "      <th>0</th>\n",
       "      <th>1</th>\n",
       "      <th>2</th>\n",
       "      <th>3</th>\n",
       "    </tr>\n",
       "  </thead>\n",
       "  <tbody>\n",
       "    <tr>\n",
       "      <th>0</th>\n",
       "      <td>Badminton Court</td>\n",
       "      <td>Anna Mackenzie</td>\n",
       "      <td>96</td>\n",
       "      <td>30</td>\n",
       "    </tr>\n",
       "    <tr>\n",
       "      <th>1</th>\n",
       "      <td>Badminton Court</td>\n",
       "      <td>Anne Baker</td>\n",
       "      <td>30</td>\n",
       "      <td>10</td>\n",
       "    </tr>\n",
       "    <tr>\n",
       "      <th>2</th>\n",
       "      <td>Badminton Court</td>\n",
       "      <td>Burton Tracy</td>\n",
       "      <td>6</td>\n",
       "      <td>2</td>\n",
       "    </tr>\n",
       "    <tr>\n",
       "      <th>3</th>\n",
       "      <td>Badminton Court</td>\n",
       "      <td>Charles Owen</td>\n",
       "      <td>18</td>\n",
       "      <td>6</td>\n",
       "    </tr>\n",
       "    <tr>\n",
       "      <th>4</th>\n",
       "      <td>Badminton Court</td>\n",
       "      <td>Darren Smith</td>\n",
       "      <td>432</td>\n",
       "      <td>132</td>\n",
       "    </tr>\n",
       "    <tr>\n",
       "      <th>...</th>\n",
       "      <td>...</td>\n",
       "      <td>...</td>\n",
       "      <td>...</td>\n",
       "      <td>...</td>\n",
       "    </tr>\n",
       "    <tr>\n",
       "      <th>197</th>\n",
       "      <td>Tennis Court 2</td>\n",
       "      <td>Ramnaresh Sarwin</td>\n",
       "      <td>36</td>\n",
       "      <td>11</td>\n",
       "    </tr>\n",
       "    <tr>\n",
       "      <th>198</th>\n",
       "      <td>Tennis Court 2</td>\n",
       "      <td>Tim Boothe</td>\n",
       "      <td>168</td>\n",
       "      <td>52</td>\n",
       "    </tr>\n",
       "    <tr>\n",
       "      <th>199</th>\n",
       "      <td>Tennis Court 2</td>\n",
       "      <td>Tim Rownam</td>\n",
       "      <td>18</td>\n",
       "      <td>6</td>\n",
       "    </tr>\n",
       "    <tr>\n",
       "      <th>200</th>\n",
       "      <td>Tennis Court 2</td>\n",
       "      <td>Timothy Baker</td>\n",
       "      <td>21</td>\n",
       "      <td>7</td>\n",
       "    </tr>\n",
       "    <tr>\n",
       "      <th>201</th>\n",
       "      <td>Tennis Court 2</td>\n",
       "      <td>Tracy Smith</td>\n",
       "      <td>6</td>\n",
       "      <td>2</td>\n",
       "    </tr>\n",
       "  </tbody>\n",
       "</table>\n",
       "<p>202 rows × 4 columns</p>\n",
       "</div>"
      ],
      "text/plain": [
       "                   0                 1    2    3\n",
       "0    Badminton Court    Anna Mackenzie   96   30\n",
       "1    Badminton Court        Anne Baker   30   10\n",
       "2    Badminton Court      Burton Tracy    6    2\n",
       "3    Badminton Court      Charles Owen   18    6\n",
       "4    Badminton Court      Darren Smith  432  132\n",
       "..               ...               ...  ...  ...\n",
       "197   Tennis Court 2  Ramnaresh Sarwin   36   11\n",
       "198   Tennis Court 2        Tim Boothe  168   52\n",
       "199   Tennis Court 2        Tim Rownam   18    6\n",
       "200   Tennis Court 2     Timothy Baker   21    7\n",
       "201   Tennis Court 2       Tracy Smith    6    2\n",
       "\n",
       "[202 rows x 4 columns]"
      ]
     },
     "execution_count": 16,
     "metadata": {},
     "output_type": "execute_result"
    }
   ],
   "source": [
    "q12df"
   ]
  },
  {
   "cell_type": "markdown",
   "metadata": {},
   "source": [
    "Q13: Find the facilities usage by month, but not guests"
   ]
  },
  {
   "cell_type": "code",
   "execution_count": 17,
   "metadata": {
    "scrolled": false
   },
   "outputs": [],
   "source": [
    "q13 = curs.execute('SELECT f.name, firstname|| \" \"|| surname as member_name, strftime(\"%m\", starttime), sum(slots), COUNT(f.name) FROM Facilities as f  INNER JOIN Bookings as b  ON f.facid = b.facid  INNER JOIN Members as m  ON b.memid = m.memid  WHERE m.memid > 0 GROUP BY f.name, member_name, strftime(\"%m\", starttime)')"
   ]
  },
  {
   "cell_type": "code",
   "execution_count": 18,
   "metadata": {},
   "outputs": [
    {
     "name": "stdout",
     "output_type": "stream",
     "text": [
      "[('Badminton Court', 'Anna Mackenzie', '08', 9, 3), ('Badminton Court', 'Anna Mackenzie', '09', 87, 27), ('Badminton Court', 'Anne Baker', '08', 3, 1), ('Badminton Court', 'Anne Baker', '09', 27, 9), ('Badminton Court', 'Burton Tracy', '08', 3, 1), ('Badminton Court', 'Burton Tracy', '09', 3, 1), ('Badminton Court', 'Charles Owen', '08', 12, 4), ('Badminton Court', 'Charles Owen', '09', 6, 2), ('Badminton Court', 'Darren Smith', '07', 123, 38), ('Badminton Court', 'Darren Smith', '08', 180, 55), ('Badminton Court', 'Darren Smith', '09', 129, 39), ('Badminton Court', 'David Jones', '08', 12, 4), ('Badminton Court', 'David Jones', '09', 12, 4), ('Badminton Court', 'David Pinker', '08', 6, 2), ('Badminton Court', 'David Pinker', '09', 15, 5), ('Badminton Court', 'Douglas Jones', '09', 6, 2), ('Badminton Court', 'Erica Crumpet', '09', 6, 2), ('Badminton Court', 'Florence Bader', '08', 15, 5), ('Badminton Court', 'Florence Bader', '09', 12, 4), ('Badminton Court', 'Gerald Butters', '07', 12, 4), ('Badminton Court', 'Gerald Butters', '08', 27, 8), ('Badminton Court', 'Gerald Butters', '09', 24, 8), ('Badminton Court', 'Henry Worthington-Smyth', '09', 15, 4), ('Badminton Court', 'Hyacinth Tupperware', '09', 3, 1), ('Badminton Court', 'Jack Smith', '08', 18, 6), ('Badminton Court', 'Jack Smith', '09', 18, 6), ('Badminton Court', 'Jemima Farrell', '08', 9, 3), ('Badminton Court', 'Jemima Farrell', '09', 12, 4), ('Badminton Court', 'John Hunt', '09', 6, 2), ('Badminton Court', 'Millicent Purview', '09', 6, 2), ('Badminton Court', 'Nancy Dare', '07', 6, 2), ('Badminton Court', 'Nancy Dare', '08', 12, 4), ('Badminton Court', 'Nancy Dare', '09', 12, 4), ('Badminton Court', 'Ponder Stibbons', '08', 18, 6), ('Badminton Court', 'Ponder Stibbons', '09', 30, 10), ('Badminton Court', 'Ramnaresh Sarwin', '09', 21, 7), ('Badminton Court', 'Tim Boothe', '07', 3, 1), ('Badminton Court', 'Tim Boothe', '08', 27, 9), ('Badminton Court', 'Tim Boothe', '09', 6, 2), ('Badminton Court', 'Tim Rownam', '07', 3, 1), ('Badminton Court', 'Tim Rownam', '08', 3, 1), ('Badminton Court', 'Tim Rownam', '09', 6, 2), ('Badminton Court', 'Timothy Baker', '08', 9, 3), ('Badminton Court', 'Timothy Baker', '09', 12, 4), ('Badminton Court', 'Tracy Smith', '07', 18, 5), ('Badminton Court', 'Tracy Smith', '08', 51, 17), ('Badminton Court', 'Tracy Smith', '09', 33, 10), ('Massage Room 1', 'Anna Mackenzie', '09', 2, 1), ('Massage Room 1', 'Anne Baker', '08', 2, 1), ('Massage Room 1', 'Anne Baker', '09', 4, 2), ('Massage Room 1', 'Burton Tracy', '07', 8, 4), ('Massage Room 1', 'Burton Tracy', '08', 36, 18), ('Massage Room 1', 'Burton Tracy', '09', 18, 9), ('Massage Room 1', 'Charles Owen', '08', 16, 8), ('Massage Room 1', 'Charles Owen', '09', 6, 3), ('Massage Room 1', 'Darren Smith', '07', 28, 13), ('Massage Room 1', 'Darren Smith', '08', 18, 9), ('Massage Room 1', 'Darren Smith', '09', 12, 6), ('Massage Room 1', 'David Jones', '08', 22, 10), ('Massage Room 1', 'David Jones', '09', 18, 9), ('Massage Room 1', 'David Pinker', '08', 2, 1), ('Massage Room 1', 'David Pinker', '09', 4, 2), ('Massage Room 1', 'Erica Crumpet', '09', 4, 2), ('Massage Room 1', 'Gerald Butters', '07', 18, 8), ('Massage Room 1', 'Gerald Butters', '08', 26, 13), ('Massage Room 1', 'Gerald Butters', '09', 22, 11), ('Massage Room 1', 'Henry Worthington-Smyth', '09', 2, 1), ('Massage Room 1', 'Hyacinth Tupperware', '09', 2, 1), ('Massage Room 1', 'Jack Smith', '08', 22, 11), ('Massage Room 1', 'Jack Smith', '09', 32, 16), ('Massage Room 1', 'Janice Joplette', '07', 10, 5), ('Massage Room 1', 'Janice Joplette', '08', 6, 3), ('Massage Room 1', 'Janice Joplette', '09', 8, 4), ('Massage Room 1', 'Jemima Farrell', '08', 20, 9), ('Massage Room 1', 'Jemima Farrell', '09', 48, 20), ('Massage Room 1', 'Joan Coplin', '09', 2, 1), ('Massage Room 1', 'John Hunt', '09', 6, 3), ('Massage Room 1', 'Matthew Genting', '08', 4, 2), ('Massage Room 1', 'Matthew Genting', '09', 48, 23), ('Massage Room 1', 'Nancy Dare', '07', 6, 3), ('Massage Room 1', 'Nancy Dare', '08', 14, 7), ('Massage Room 1', 'Nancy Dare', '09', 18, 9), ('Massage Room 1', 'Ponder Stibbons', '08', 28, 13), ('Massage Room 1', 'Ponder Stibbons', '09', 12, 6), ('Massage Room 1', 'Ramnaresh Sarwin', '09', 16, 8), ('Massage Room 1', 'Tim Boothe', '07', 10, 4), ('Massage Room 1', 'Tim Boothe', '08', 34, 17), ('Massage Room 1', 'Tim Boothe', '09', 32, 15), ('Massage Room 1', 'Tim Rownam', '07', 80, 37), ('Massage Room 1', 'Tim Rownam', '08', 50, 23), ('Massage Room 1', 'Tim Rownam', '09', 46, 20), ('Massage Room 1', 'Timothy Baker', '08', 14, 7), ('Massage Room 1', 'Timothy Baker', '09', 36, 17), ('Massage Room 1', 'Tracy Smith', '07', 6, 3), ('Massage Room 1', 'Tracy Smith', '08', 2, 1), ('Massage Room 1', 'Tracy Smith', '09', 4, 2), ('Massage Room 2', 'Anne Baker', '08', 4, 2), ('Massage Room 2', 'Charles Owen', '09', 4, 2), ('Massage Room 2', 'David Jones', '08', 6, 3), ('Massage Room 2', 'David Jones', '09', 2, 1), ('Massage Room 2', 'Florence Bader', '09', 4, 2), ('Massage Room 2', 'Gerald Butters', '07', 2, 1), ('Massage Room 2', 'Jack Smith', '09', 2, 1), ('Massage Room 2', 'Janice Joplette', '07', 2, 1), ('Massage Room 2', 'Janice Joplette', '08', 2, 1), ('Massage Room 2', 'Joan Coplin', '09', 4, 2), ('Massage Room 2', 'Matthew Genting', '08', 2, 1), ('Massage Room 2', 'Nancy Dare', '07', 2, 1), ('Massage Room 2', 'Nancy Dare', '08', 4, 2), ('Massage Room 2', 'Nancy Dare', '09', 4, 2), ('Massage Room 2', 'Ramnaresh Sarwin', '09', 6, 3), ('Massage Room 2', 'Tim Rownam', '07', 2, 1), ('Massage Room 2', 'Tim Rownam', '09', 2, 1), ('Pool Table', 'Anna Mackenzie', '08', 8, 5), ('Pool Table', 'Anna Mackenzie', '09', 75, 65), ('Pool Table', 'Anne Baker', '08', 7, 7), ('Pool Table', 'Anne Baker', '09', 5, 5), ('Pool Table', 'Burton Tracy', '07', 2, 2), ('Pool Table', 'Burton Tracy', '08', 20, 20), ('Pool Table', 'Burton Tracy', '09', 8, 8), ('Pool Table', 'Charles Owen', '09', 1, 1), ('Pool Table', 'Darren Smith', '07', 9, 9), ('Pool Table', 'Darren Smith', '08', 12, 12), ('Pool Table', 'Darren Smith', '09', 7, 7), ('Pool Table', 'David Farrell', '09', 25, 25), ('Pool Table', 'David Jones', '08', 5, 5), ('Pool Table', 'David Jones', '09', 3, 3), ('Pool Table', 'David Pinker', '08', 4, 4), ('Pool Table', 'David Pinker', '09', 5, 5), ('Pool Table', 'Douglas Jones', '09', 2, 2), ('Pool Table', 'Florence Bader', '08', 8, 8), ('Pool Table', 'Florence Bader', '09', 15, 15), ('Pool Table', 'Gerald Butters', '07', 2, 2), ('Pool Table', 'Gerald Butters', '08', 1, 1), ('Pool Table', 'Gerald Butters', '09', 3, 3), ('Pool Table', 'Henrietta Rumney', '09', 3, 3), ('Pool Table', 'Henry Worthington-Smyth', '09', 37, 33), ('Pool Table', 'Hyacinth Tupperware', '09', 9, 8), ('Pool Table', 'Jack Smith', '08', 5, 5), ('Pool Table', 'Jack Smith', '09', 2, 2), ('Pool Table', 'Janice Joplette', '07', 10, 10), ('Pool Table', 'Janice Joplette', '08', 13, 13), ('Pool Table', 'Janice Joplette', '09', 4, 4), ('Pool Table', 'Jemima Farrell', '09', 1, 1), ('Pool Table', 'Joan Coplin', '09', 11, 11), ('Pool Table', 'Matthew Genting', '08', 2, 2), ('Pool Table', 'Matthew Genting', '09', 16, 16), ('Pool Table', 'Millicent Purview', '09', 5, 5), ('Pool Table', 'Nancy Dare', '07', 2, 2), ('Pool Table', 'Nancy Dare', '08', 10, 10), ('Pool Table', 'Nancy Dare', '09', 7, 7), ('Pool Table', 'Ponder Stibbons', '08', 7, 7), ('Pool Table', 'Ponder Stibbons', '09', 5, 5), ('Pool Table', 'Ramnaresh Sarwin', '09', 13, 13), ('Pool Table', 'Tim Boothe', '07', 1, 1), ('Pool Table', 'Tim Boothe', '08', 15, 15), ('Pool Table', 'Tim Boothe', '09', 10, 9), ('Pool Table', 'Tim Rownam', '07', 69, 62), ('Pool Table', 'Tim Rownam', '08', 117, 97), ('Pool Table', 'Tim Rownam', '09', 96, 82), ('Pool Table', 'Timothy Baker', '08', 39, 33), ('Pool Table', 'Timothy Baker', '09', 56, 52), ('Pool Table', 'Tracy Smith', '07', 15, 15), ('Pool Table', 'Tracy Smith', '08', 30, 28), ('Pool Table', 'Tracy Smith', '09', 19, 18), ('Snooker Table', 'Anna Mackenzie', '09', 14, 7), ('Snooker Table', 'Burton Tracy', '07', 8, 4), ('Snooker Table', 'Burton Tracy', '08', 24, 12), ('Snooker Table', 'Burton Tracy', '09', 8, 4), ('Snooker Table', 'Charles Owen', '08', 12, 6), ('Snooker Table', 'Charles Owen', '09', 32, 16), ('Snooker Table', 'Darren Smith', '07', 10, 5), ('Snooker Table', 'Darren Smith', '08', 6, 3), ('Snooker Table', 'Darren Smith', '09', 8, 4), ('Snooker Table', 'David Farrell', '09', 2, 1), ('Snooker Table', 'David Jones', '08', 4, 2), ('Snooker Table', 'David Pinker', '08', 14, 7), ('Snooker Table', 'David Pinker', '09', 18, 9), ('Snooker Table', 'Florence Bader', '08', 22, 11), ('Snooker Table', 'Florence Bader', '09', 44, 22), ('Snooker Table', 'Gerald Butters', '07', 18, 9), ('Snooker Table', 'Gerald Butters', '08', 30, 13), ('Snooker Table', 'Gerald Butters', '09', 24, 12), ('Snooker Table', 'Henrietta Rumney', '09', 28, 14), ('Snooker Table', 'Hyacinth Tupperware', '09', 12, 5), ('Snooker Table', 'Jack Smith', '08', 4, 2), ('Snooker Table', 'Jack Smith', '09', 6, 3), ('Snooker Table', 'Janice Joplette', '07', 48, 23), ('Snooker Table', 'Janice Joplette', '08', 50, 25), ('Snooker Table', 'Janice Joplette', '09', 44, 20), ('Snooker Table', 'Jemima Farrell', '08', 30, 14), ('Snooker Table', 'Jemima Farrell', '09', 14, 7), ('Snooker Table', 'Joan Coplin', '09', 20, 10), ('Snooker Table', 'Matthew Genting', '09', 2, 1), ('Snooker Table', 'Millicent Purview', '09', 2, 1), ('Snooker Table', 'Nancy Dare', '07', 4, 2), ('Snooker Table', 'Nancy Dare', '08', 20, 10), ('Snooker Table', 'Nancy Dare', '09', 22, 11), ('Snooker Table', 'Ponder Stibbons', '08', 18, 9), ('Snooker Table', 'Ponder Stibbons', '09', 22, 11), ('Snooker Table', 'Ramnaresh Sarwin', '09', 36, 18), ('Snooker Table', 'Tim Boothe', '07', 8, 3), ('Snooker Table', 'Tim Boothe', '08', 48, 23), ('Snooker Table', 'Tim Boothe', '09', 34, 17), ('Snooker Table', 'Tracy Smith', '07', 44, 22), ('Snooker Table', 'Tracy Smith', '08', 34, 17), ('Snooker Table', 'Tracy Smith', '09', 12, 6), ('Squash Court', 'Anna Mackenzie', '09', 4, 2), ('Squash Court', 'Anne Baker', '08', 50, 21), ('Squash Court', 'Anne Baker', '09', 60, 28), ('Squash Court', 'Burton Tracy', '07', 8, 3), ('Squash Court', 'Burton Tracy', '08', 52, 24), ('Squash Court', 'Burton Tracy', '09', 18, 8), ('Squash Court', 'Charles Owen', '08', 8, 4), ('Squash Court', 'Charles Owen', '09', 6, 3), ('Squash Court', 'Darren Smith', '07', 16, 8), ('Squash Court', 'Darren Smith', '08', 12, 5), ('Squash Court', 'Darren Smith', '09', 2, 1), ('Squash Court', 'David Farrell', '09', 2, 1), ('Squash Court', 'David Jones', '08', 8, 4), ('Squash Court', 'David Jones', '09', 8, 4), ('Squash Court', 'David Pinker', '08', 2, 1), ('Squash Court', 'David Pinker', '09', 4, 2), ('Squash Court', 'Douglas Jones', '09', 2, 1), ('Squash Court', 'Florence Bader', '09', 4, 2), ('Squash Court', 'Gerald Butters', '07', 6, 3), ('Squash Court', 'Gerald Butters', '08', 8, 4), ('Squash Court', 'Gerald Butters', '09', 4, 2), ('Squash Court', 'Henrietta Rumney', '09', 4, 2), ('Squash Court', 'Hyacinth Tupperware', '09', 2, 1), ('Squash Court', 'Jack Smith', '08', 8, 4), ('Squash Court', 'Jack Smith', '09', 14, 5), ('Squash Court', 'Janice Joplette', '07', 14, 6), ('Squash Court', 'Janice Joplette', '08', 6, 3), ('Squash Court', 'Janice Joplette', '09', 10, 5), ('Squash Court', 'Jemima Farrell', '08', 12, 6), ('Squash Court', 'Jemima Farrell', '09', 4, 2), ('Squash Court', 'Joan Coplin', '09', 2, 1), ('Squash Court', 'John Hunt', '09', 2, 1), ('Squash Court', 'Millicent Purview', '09', 2, 1), ('Squash Court', 'Ponder Stibbons', '09', 4, 2), ('Squash Court', 'Ramnaresh Sarwin', '09', 4, 2), ('Squash Court', 'Tim Boothe', '07', 2, 1), ('Squash Court', 'Tim Boothe', '08', 12, 6), ('Squash Court', 'Tim Boothe', '09', 10, 5), ('Squash Court', 'Timothy Baker', '08', 4, 2), ('Squash Court', 'Timothy Baker', '09', 6, 3), ('Squash Court', 'Tracy Smith', '07', 4, 2), ('Squash Court', 'Tracy Smith', '08', 2, 1), ('Squash Court', 'Tracy Smith', '09', 6, 3), ('Table Tennis', 'Anna Mackenzie', '09', 32, 16), ('Table Tennis', 'Anne Baker', '08', 2, 1), ('Table Tennis', 'Burton Tracy', '08', 36, 18), ('Table Tennis', 'Burton Tracy', '09', 12, 6), ('Table Tennis', 'Charles Owen', '08', 38, 18), ('Table Tennis', 'Charles Owen', '09', 12, 6), ('Table Tennis', 'Darren Smith', '07', 24, 12), ('Table Tennis', 'Darren Smith', '08', 18, 9), ('Table Tennis', 'Darren Smith', '09', 14, 7), ('Table Tennis', 'David Jones', '08', 14, 7), ('Table Tennis', 'David Jones', '09', 8, 4), ('Table Tennis', 'David Pinker', '08', 8, 4), ('Table Tennis', 'David Pinker', '09', 26, 13), ('Table Tennis', 'Erica Crumpet', '09', 4, 2), ('Table Tennis', 'Florence Bader', '08', 26, 12), ('Table Tennis', 'Florence Bader', '09', 60, 30), ('Table Tennis', 'Gerald Butters', '08', 2, 1), ('Table Tennis', 'Henry Worthington-Smyth', '09', 6, 3), ('Table Tennis', 'Jack Smith', '08', 6, 3), ('Table Tennis', 'Jack Smith', '09', 4, 2), ('Table Tennis', 'Janice Joplette', '07', 2, 1), ('Table Tennis', 'Janice Joplette', '08', 12, 6), ('Table Tennis', 'Janice Joplette', '09', 4, 2), ('Table Tennis', 'Jemima Farrell', '08', 8, 4), ('Table Tennis', 'Jemima Farrell', '09', 16, 8), ('Table Tennis', 'Joan Coplin', '09', 46, 21), ('Table Tennis', 'John Hunt', '09', 2, 1), ('Table Tennis', 'Matthew Genting', '08', 10, 5), ('Table Tennis', 'Matthew Genting', '09', 44, 21), ('Table Tennis', 'Millicent Purview', '09', 14, 6), ('Table Tennis', 'Nancy Dare', '08', 8, 4), ('Table Tennis', 'Nancy Dare', '09', 2, 1), ('Table Tennis', 'Ponder Stibbons', '08', 2, 1), ('Table Tennis', 'Ponder Stibbons', '09', 4, 2), ('Table Tennis', 'Ramnaresh Sarwin', '09', 6, 3), ('Table Tennis', 'Tim Boothe', '08', 8, 4), ('Table Tennis', 'Tim Rownam', '07', 46, 22), ('Table Tennis', 'Tim Rownam', '08', 66, 30), ('Table Tennis', 'Tim Rownam', '09', 38, 17), ('Table Tennis', 'Timothy Baker', '08', 18, 9), ('Table Tennis', 'Timothy Baker', '09', 30, 15), ('Table Tennis', 'Tracy Smith', '07', 26, 13), ('Table Tennis', 'Tracy Smith', '08', 14, 7), ('Table Tennis', 'Tracy Smith', '09', 16, 8), ('Tennis Court 1', 'Anne Baker', '08', 9, 3), ('Tennis Court 1', 'Anne Baker', '09', 9, 3), ('Tennis Court 1', 'Burton Tracy', '07', 12, 4), ('Tennis Court 1', 'Burton Tracy', '08', 48, 16), ('Tennis Court 1', 'Burton Tracy', '09', 33, 11), ('Tennis Court 1', 'Charles Owen', '08', 30, 10), ('Tennis Court 1', 'Charles Owen', '09', 21, 7), ('Tennis Court 1', 'David Farrell', '09', 18, 6), ('Tennis Court 1', 'David Jones', '08', 24, 8), ('Tennis Court 1', 'David Jones', '09', 60, 17), ('Tennis Court 1', 'David Pinker', '08', 12, 4), ('Tennis Court 1', 'David Pinker', '09', 39, 12), ('Tennis Court 1', 'Douglas Jones', '09', 27, 9), ('Tennis Court 1', 'Erica Crumpet', '09', 3, 1), ('Tennis Court 1', 'Florence Bader', '09', 3, 1), ('Tennis Court 1', 'Gerald Butters', '07', 66, 22), ('Tennis Court 1', 'Gerald Butters', '08', 69, 23), ('Tennis Court 1', 'Gerald Butters', '09', 36, 12), ('Tennis Court 1', 'Jack Smith', '08', 39, 12), ('Tennis Court 1', 'Jack Smith', '09', 36, 10), ('Tennis Court 1', 'Janice Joplette', '07', 30, 10), ('Tennis Court 1', 'Janice Joplette', '08', 15, 5), ('Tennis Court 1', 'Janice Joplette', '09', 12, 4), ('Tennis Court 1', 'Jemima Farrell', '09', 3, 1), ('Tennis Court 1', 'Joan Coplin', '09', 21, 7), ('Tennis Court 1', 'John Hunt', '09', 12, 4), ('Tennis Court 1', 'Matthew Genting', '09', 3, 1), ('Tennis Court 1', 'Nancy Dare', '07', 18, 4), ('Tennis Court 1', 'Nancy Dare', '08', 39, 13), ('Tennis Court 1', 'Nancy Dare', '09', 24, 8), ('Tennis Court 1', 'Ponder Stibbons', '08', 3, 1), ('Tennis Court 1', 'Ramnaresh Sarwin', '09', 15, 5), ('Tennis Court 1', 'Tim Boothe', '08', 12, 4), ('Tennis Court 1', 'Tim Rownam', '07', 12, 4), ('Tennis Court 1', 'Tim Rownam', '08', 3, 1), ('Tennis Court 1', 'Tim Rownam', '09', 3, 1), ('Tennis Court 1', 'Timothy Baker', '08', 18, 5), ('Tennis Court 1', 'Timothy Baker', '09', 27, 9), ('Tennis Court 1', 'Tracy Smith', '07', 63, 21), ('Tennis Court 1', 'Tracy Smith', '08', 18, 6), ('Tennis Court 1', 'Tracy Smith', '09', 12, 3), ('Tennis Court 2', 'Anne Baker', '08', 48, 16), ('Tennis Court 2', 'Anne Baker', '09', 66, 19), ('Tennis Court 2', 'Burton Tracy', '07', 3, 1), ('Tennis Court 2', 'Burton Tracy', '08', 6, 2), ('Tennis Court 2', 'Charles Owen', '08', 69, 19), ('Tennis Court 2', 'Charles Owen', '09', 72, 22), ('Tennis Court 2', 'Darren Smith', '07', 45, 15), ('Tennis Court 2', 'Darren Smith', '08', 3, 1), ('Tennis Court 2', 'Darren Smith', '09', 9, 3), ('Tennis Court 2', 'David Farrell', '09', 3, 1), ('Tennis Court 2', 'David Jones', '08', 39, 13), ('Tennis Court 2', 'David Jones', '09', 60, 17), ('Tennis Court 2', 'Florence Bader', '08', 9, 3), ('Tennis Court 2', 'Florence Bader', '09', 15, 5), ('Tennis Court 2', 'Gerald Butters', '07', 3, 1), ('Tennis Court 2', 'Gerald Butters', '08', 3, 1), ('Tennis Court 2', 'Gerald Butters', '09', 3, 1), ('Tennis Court 2', 'Henrietta Rumney', '09', 3, 1), ('Tennis Court 2', 'Jack Smith', '09', 3, 1), ('Tennis Court 2', 'Janice Joplette', '07', 21, 7), ('Tennis Court 2', 'Janice Joplette', '09', 3, 1), ('Tennis Court 2', 'Jemima Farrell', '08', 3, 1), ('Tennis Court 2', 'John Hunt', '09', 12, 4), ('Tennis Court 2', 'Millicent Purview', '09', 3, 1), ('Tennis Court 2', 'Nancy Dare', '07', 12, 4), ('Tennis Court 2', 'Nancy Dare', '08', 21, 7), ('Tennis Court 2', 'Ponder Stibbons', '08', 51, 17), ('Tennis Court 2', 'Ponder Stibbons', '09', 45, 14), ('Tennis Court 2', 'Ramnaresh Sarwin', '09', 36, 11), ('Tennis Court 2', 'Tim Boothe', '07', 18, 6), ('Tennis Court 2', 'Tim Boothe', '08', 81, 25), ('Tennis Court 2', 'Tim Boothe', '09', 69, 21), ('Tennis Court 2', 'Tim Rownam', '07', 15, 5), ('Tennis Court 2', 'Tim Rownam', '08', 3, 1), ('Tennis Court 2', 'Timothy Baker', '08', 9, 3), ('Tennis Court 2', 'Timothy Baker', '09', 12, 4), ('Tennis Court 2', 'Tracy Smith', '07', 6, 2)]\n"
     ]
    }
   ],
   "source": [
    "q13 = curs.fetchall()\n",
    "print(q13)"
   ]
  },
  {
   "cell_type": "code",
   "execution_count": null,
   "metadata": {},
   "outputs": [],
   "source": []
  }
 ],
 "metadata": {
  "kernelspec": {
   "display_name": "Python 3",
   "language": "python",
   "name": "python3"
  },
  "language_info": {
   "codemirror_mode": {
    "name": "ipython",
    "version": 3
   },
   "file_extension": ".py",
   "mimetype": "text/x-python",
   "name": "python",
   "nbconvert_exporter": "python",
   "pygments_lexer": "ipython3",
   "version": "3.8.5"
  }
 },
 "nbformat": 4,
 "nbformat_minor": 4
}
